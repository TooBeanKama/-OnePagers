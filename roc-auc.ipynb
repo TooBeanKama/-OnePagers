{
 "cells": [
  {
   "cell_type": "code",
   "execution_count": 3,
   "id": "55390390",
   "metadata": {},
   "outputs": [
    {
     "data": {
      "text/plain": [
       "1.0"
      ]
     },
     "execution_count": 3,
     "metadata": {},
     "output_type": "execute_result"
    }
   ],
   "source": [
    "from sklearn.metrics import roc_auc_score\n",
    "\n",
    "y_true = [0,1,1,0,1]\n",
    "y_predictions = [0.1, 0.9, 0.55, 0.3, 0.61]\n",
    "roc_auc_score(y_true, y_predictions)"
   ]
  },
  {
   "cell_type": "code",
   "execution_count": 4,
   "id": "ad82e943",
   "metadata": {},
   "outputs": [
    {
     "data": {
      "text/plain": [
       "0.8333333333333333"
      ]
     },
     "execution_count": 4,
     "metadata": {},
     "output_type": "execute_result"
    }
   ],
   "source": [
    "y_predictions = [0.1, 0.9, 0.4, 0.6, 0.61]\n",
    "roc_auc_score(y_true, y_predictions)"
   ]
  }
 ],
 "metadata": {
  "kernelspec": {
   "display_name": "Python 3 (ipykernel)",
   "language": "python",
   "name": "python3"
  },
  "language_info": {
   "codemirror_mode": {
    "name": "ipython",
    "version": 3
   },
   "file_extension": ".py",
   "mimetype": "text/x-python",
   "name": "python",
   "nbconvert_exporter": "python",
   "pygments_lexer": "ipython3",
   "version": "3.11.4"
  }
 },
 "nbformat": 4,
 "nbformat_minor": 5
}
