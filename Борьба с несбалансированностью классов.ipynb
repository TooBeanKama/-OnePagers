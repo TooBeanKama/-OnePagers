{
 "cells": [
  {
   "cell_type": "markdown",
   "id": "9dda6488",
   "metadata": {},
   "source": [
    "### Борьба с несбалансированностью классов с помощью модуля NEARMISS\n",
    "https://habr.com/ru/articles/562322/\n",
    "\n",
    "+ Метод NearMiss — это метод недостаточной выборки. \n",
    "+ Он пробует сбалансировать распределение классов путём случайного исключения наблюдений из бо́льших классов. \n",
    "+ Если экземпляры из двух разных классов очень похожи между собой, метод удаляет наблюдение из мажоритарного класса."
   ]
  },
  {
   "cell_type": "code",
   "execution_count": 52,
   "id": "317c1133",
   "metadata": {},
   "outputs": [],
   "source": [
    "import pandas as pd\n",
    "import numpy as np\n",
    "from sklearn.model_selection import train_test_split\n",
    "from sklearn.linear_model import LogisticRegression\n",
    "from sklearn.metrics import classification_report\n",
    "\n",
    "from imblearn.under_sampling import NearMiss\n",
    "\n",
    "import warnings\n",
    "warnings.filterwarnings(\"ignore\")"
   ]
  },
  {
   "cell_type": "code",
   "execution_count": 25,
   "id": "b6a7ab4d",
   "metadata": {},
   "outputs": [
    {
     "data": {
      "text/html": [
       "<div>\n",
       "<style scoped>\n",
       "    .dataframe tbody tr th:only-of-type {\n",
       "        vertical-align: middle;\n",
       "    }\n",
       "\n",
       "    .dataframe tbody tr th {\n",
       "        vertical-align: top;\n",
       "    }\n",
       "\n",
       "    .dataframe thead th {\n",
       "        text-align: right;\n",
       "    }\n",
       "</style>\n",
       "<table border=\"1\" class=\"dataframe\">\n",
       "  <thead>\n",
       "    <tr style=\"text-align: right;\">\n",
       "      <th></th>\n",
       "      <th>0</th>\n",
       "      <th>1</th>\n",
       "      <th>2</th>\n",
       "      <th>3</th>\n",
       "      <th>4</th>\n",
       "    </tr>\n",
       "  </thead>\n",
       "  <tbody>\n",
       "    <tr>\n",
       "      <th>Administrative</th>\n",
       "      <td>0</td>\n",
       "      <td>0</td>\n",
       "      <td>0</td>\n",
       "      <td>0</td>\n",
       "      <td>0</td>\n",
       "    </tr>\n",
       "    <tr>\n",
       "      <th>Administrative_Duration</th>\n",
       "      <td>0.0</td>\n",
       "      <td>0.0</td>\n",
       "      <td>0.0</td>\n",
       "      <td>0.0</td>\n",
       "      <td>0.0</td>\n",
       "    </tr>\n",
       "    <tr>\n",
       "      <th>Informational</th>\n",
       "      <td>0</td>\n",
       "      <td>0</td>\n",
       "      <td>0</td>\n",
       "      <td>0</td>\n",
       "      <td>0</td>\n",
       "    </tr>\n",
       "    <tr>\n",
       "      <th>Informational_Duration</th>\n",
       "      <td>0.0</td>\n",
       "      <td>0.0</td>\n",
       "      <td>0.0</td>\n",
       "      <td>0.0</td>\n",
       "      <td>0.0</td>\n",
       "    </tr>\n",
       "    <tr>\n",
       "      <th>ProductRelated</th>\n",
       "      <td>1</td>\n",
       "      <td>2</td>\n",
       "      <td>1</td>\n",
       "      <td>2</td>\n",
       "      <td>10</td>\n",
       "    </tr>\n",
       "    <tr>\n",
       "      <th>ProductRelated_Duration</th>\n",
       "      <td>0.0</td>\n",
       "      <td>64.0</td>\n",
       "      <td>0.0</td>\n",
       "      <td>2.666667</td>\n",
       "      <td>627.5</td>\n",
       "    </tr>\n",
       "    <tr>\n",
       "      <th>BounceRates</th>\n",
       "      <td>0.2</td>\n",
       "      <td>0.0</td>\n",
       "      <td>0.2</td>\n",
       "      <td>0.05</td>\n",
       "      <td>0.02</td>\n",
       "    </tr>\n",
       "    <tr>\n",
       "      <th>ExitRates</th>\n",
       "      <td>0.2</td>\n",
       "      <td>0.1</td>\n",
       "      <td>0.2</td>\n",
       "      <td>0.14</td>\n",
       "      <td>0.05</td>\n",
       "    </tr>\n",
       "    <tr>\n",
       "      <th>PageValues</th>\n",
       "      <td>0.0</td>\n",
       "      <td>0.0</td>\n",
       "      <td>0.0</td>\n",
       "      <td>0.0</td>\n",
       "      <td>0.0</td>\n",
       "    </tr>\n",
       "    <tr>\n",
       "      <th>SpecialDay</th>\n",
       "      <td>0.0</td>\n",
       "      <td>0.0</td>\n",
       "      <td>0.0</td>\n",
       "      <td>0.0</td>\n",
       "      <td>0.0</td>\n",
       "    </tr>\n",
       "    <tr>\n",
       "      <th>Month</th>\n",
       "      <td>Feb</td>\n",
       "      <td>Feb</td>\n",
       "      <td>Feb</td>\n",
       "      <td>Feb</td>\n",
       "      <td>Feb</td>\n",
       "    </tr>\n",
       "    <tr>\n",
       "      <th>OperatingSystems</th>\n",
       "      <td>1</td>\n",
       "      <td>2</td>\n",
       "      <td>4</td>\n",
       "      <td>3</td>\n",
       "      <td>3</td>\n",
       "    </tr>\n",
       "    <tr>\n",
       "      <th>Browser</th>\n",
       "      <td>1</td>\n",
       "      <td>2</td>\n",
       "      <td>1</td>\n",
       "      <td>2</td>\n",
       "      <td>3</td>\n",
       "    </tr>\n",
       "    <tr>\n",
       "      <th>Region</th>\n",
       "      <td>1</td>\n",
       "      <td>1</td>\n",
       "      <td>9</td>\n",
       "      <td>2</td>\n",
       "      <td>1</td>\n",
       "    </tr>\n",
       "    <tr>\n",
       "      <th>TrafficType</th>\n",
       "      <td>1</td>\n",
       "      <td>2</td>\n",
       "      <td>3</td>\n",
       "      <td>4</td>\n",
       "      <td>4</td>\n",
       "    </tr>\n",
       "    <tr>\n",
       "      <th>VisitorType</th>\n",
       "      <td>Returning_Visitor</td>\n",
       "      <td>Returning_Visitor</td>\n",
       "      <td>Returning_Visitor</td>\n",
       "      <td>Returning_Visitor</td>\n",
       "      <td>Returning_Visitor</td>\n",
       "    </tr>\n",
       "    <tr>\n",
       "      <th>Weekend</th>\n",
       "      <td>False</td>\n",
       "      <td>False</td>\n",
       "      <td>False</td>\n",
       "      <td>False</td>\n",
       "      <td>True</td>\n",
       "    </tr>\n",
       "    <tr>\n",
       "      <th>Revenue</th>\n",
       "      <td>False</td>\n",
       "      <td>False</td>\n",
       "      <td>False</td>\n",
       "      <td>False</td>\n",
       "      <td>False</td>\n",
       "    </tr>\n",
       "  </tbody>\n",
       "</table>\n",
       "</div>"
      ],
      "text/plain": [
       "                                         0                  1  \\\n",
       "Administrative                           0                  0   \n",
       "Administrative_Duration                0.0                0.0   \n",
       "Informational                            0                  0   \n",
       "Informational_Duration                 0.0                0.0   \n",
       "ProductRelated                           1                  2   \n",
       "ProductRelated_Duration                0.0               64.0   \n",
       "BounceRates                            0.2                0.0   \n",
       "ExitRates                              0.2                0.1   \n",
       "PageValues                             0.0                0.0   \n",
       "SpecialDay                             0.0                0.0   \n",
       "Month                                  Feb                Feb   \n",
       "OperatingSystems                         1                  2   \n",
       "Browser                                  1                  2   \n",
       "Region                                   1                  1   \n",
       "TrafficType                              1                  2   \n",
       "VisitorType              Returning_Visitor  Returning_Visitor   \n",
       "Weekend                              False              False   \n",
       "Revenue                              False              False   \n",
       "\n",
       "                                         2                  3  \\\n",
       "Administrative                           0                  0   \n",
       "Administrative_Duration                0.0                0.0   \n",
       "Informational                            0                  0   \n",
       "Informational_Duration                 0.0                0.0   \n",
       "ProductRelated                           1                  2   \n",
       "ProductRelated_Duration                0.0           2.666667   \n",
       "BounceRates                            0.2               0.05   \n",
       "ExitRates                              0.2               0.14   \n",
       "PageValues                             0.0                0.0   \n",
       "SpecialDay                             0.0                0.0   \n",
       "Month                                  Feb                Feb   \n",
       "OperatingSystems                         4                  3   \n",
       "Browser                                  1                  2   \n",
       "Region                                   9                  2   \n",
       "TrafficType                              3                  4   \n",
       "VisitorType              Returning_Visitor  Returning_Visitor   \n",
       "Weekend                              False              False   \n",
       "Revenue                              False              False   \n",
       "\n",
       "                                         4  \n",
       "Administrative                           0  \n",
       "Administrative_Duration                0.0  \n",
       "Informational                            0  \n",
       "Informational_Duration                 0.0  \n",
       "ProductRelated                          10  \n",
       "ProductRelated_Duration              627.5  \n",
       "BounceRates                           0.02  \n",
       "ExitRates                             0.05  \n",
       "PageValues                             0.0  \n",
       "SpecialDay                             0.0  \n",
       "Month                                  Feb  \n",
       "OperatingSystems                         3  \n",
       "Browser                                  3  \n",
       "Region                                   1  \n",
       "TrafficType                              4  \n",
       "VisitorType              Returning_Visitor  \n",
       "Weekend                               True  \n",
       "Revenue                              False  "
      ]
     },
     "execution_count": 25,
     "metadata": {},
     "output_type": "execute_result"
    }
   ],
   "source": [
    "file = 'online_shoppers_intention.csv'\n",
    "df = pd.read_csv(file)\n",
    "df.head().T"
   ]
  },
  {
   "cell_type": "code",
   "execution_count": 26,
   "id": "18f8d683",
   "metadata": {},
   "outputs": [
    {
     "data": {
      "text/plain": [
       "(12330, 18)"
      ]
     },
     "execution_count": 26,
     "metadata": {},
     "output_type": "execute_result"
    }
   ],
   "source": [
    "df.shape"
   ]
  },
  {
   "cell_type": "code",
   "execution_count": 27,
   "id": "6a7ab7a4",
   "metadata": {},
   "outputs": [
    {
     "name": "stdout",
     "output_type": "stream",
     "text": [
      "<class 'pandas.core.frame.DataFrame'>\n",
      "RangeIndex: 12330 entries, 0 to 12329\n",
      "Data columns (total 18 columns):\n",
      " #   Column                   Non-Null Count  Dtype  \n",
      "---  ------                   --------------  -----  \n",
      " 0   Administrative           12330 non-null  int64  \n",
      " 1   Administrative_Duration  12330 non-null  float64\n",
      " 2   Informational            12330 non-null  int64  \n",
      " 3   Informational_Duration   12330 non-null  float64\n",
      " 4   ProductRelated           12330 non-null  int64  \n",
      " 5   ProductRelated_Duration  12330 non-null  float64\n",
      " 6   BounceRates              12330 non-null  float64\n",
      " 7   ExitRates                12330 non-null  float64\n",
      " 8   PageValues               12330 non-null  float64\n",
      " 9   SpecialDay               12330 non-null  float64\n",
      " 10  Month                    12330 non-null  object \n",
      " 11  OperatingSystems         12330 non-null  int64  \n",
      " 12  Browser                  12330 non-null  int64  \n",
      " 13  Region                   12330 non-null  int64  \n",
      " 14  TrafficType              12330 non-null  int64  \n",
      " 15  VisitorType              12330 non-null  object \n",
      " 16  Weekend                  12330 non-null  bool   \n",
      " 17  Revenue                  12330 non-null  bool   \n",
      "dtypes: bool(2), float64(7), int64(7), object(2)\n",
      "memory usage: 1.5+ MB\n"
     ]
    }
   ],
   "source": [
    "df.info()"
   ]
  },
  {
   "cell_type": "markdown",
   "id": "636efdf0",
   "metadata": {},
   "source": [
    "`Revenue` - столбец для прогнозирования"
   ]
  },
  {
   "cell_type": "code",
   "execution_count": 28,
   "id": "e5e31d09",
   "metadata": {},
   "outputs": [
    {
     "data": {
      "text/plain": [
       "False    10422\n",
       "True      1908\n",
       "Name: Revenue, dtype: int64"
      ]
     },
     "execution_count": 28,
     "metadata": {},
     "output_type": "execute_result"
    }
   ],
   "source": [
    "df['Revenue'].value_counts()"
   ]
  },
  {
   "cell_type": "code",
   "execution_count": 29,
   "id": "277d729c",
   "metadata": {},
   "outputs": [
    {
     "data": {
      "text/plain": [
       "Index(['Administrative', 'Administrative_Duration', 'Informational',\n",
       "       'Informational_Duration', 'ProductRelated', 'ProductRelated_Duration',\n",
       "       'BounceRates', 'ExitRates', 'PageValues', 'SpecialDay', 'Month',\n",
       "       'OperatingSystems', 'Browser', 'Region', 'TrafficType', 'VisitorType',\n",
       "       'Weekend'],\n",
       "      dtype='object')"
      ]
     },
     "execution_count": 29,
     "metadata": {},
     "output_type": "execute_result"
    }
   ],
   "source": [
    "# разделим наблюдения на обучающую и тестовую выборки\n",
    "Y = df['Revenue']\n",
    "X = df.drop('Revenue', axis=1)\n",
    "\n",
    "feature_names = X.columns\n",
    "feature_names"
   ]
  },
  {
   "cell_type": "code",
   "execution_count": 33,
   "id": "86940de5",
   "metadata": {},
   "outputs": [
    {
     "name": "stdout",
     "output_type": "stream",
     "text": [
      "<class 'pandas.core.frame.DataFrame'>\n",
      "RangeIndex: 12330 entries, 0 to 12329\n",
      "Data columns (total 28 columns):\n",
      " #   Column                         Non-Null Count  Dtype  \n",
      "---  ------                         --------------  -----  \n",
      " 0   Administrative                 12330 non-null  int64  \n",
      " 1   Administrative_Duration        12330 non-null  float64\n",
      " 2   Informational                  12330 non-null  int64  \n",
      " 3   Informational_Duration         12330 non-null  float64\n",
      " 4   ProductRelated                 12330 non-null  int64  \n",
      " 5   ProductRelated_Duration        12330 non-null  float64\n",
      " 6   BounceRates                    12330 non-null  float64\n",
      " 7   ExitRates                      12330 non-null  float64\n",
      " 8   PageValues                     12330 non-null  float64\n",
      " 9   SpecialDay                     12330 non-null  float64\n",
      " 10  OperatingSystems               12330 non-null  int64  \n",
      " 11  Browser                        12330 non-null  int64  \n",
      " 12  Region                         12330 non-null  int64  \n",
      " 13  TrafficType                    12330 non-null  int64  \n",
      " 14  Weekend                        12330 non-null  bool   \n",
      " 15  Month_Aug                      12330 non-null  uint8  \n",
      " 16  Month_Dec                      12330 non-null  uint8  \n",
      " 17  Month_Feb                      12330 non-null  uint8  \n",
      " 18  Month_Jul                      12330 non-null  uint8  \n",
      " 19  Month_June                     12330 non-null  uint8  \n",
      " 20  Month_Mar                      12330 non-null  uint8  \n",
      " 21  Month_May                      12330 non-null  uint8  \n",
      " 22  Month_Nov                      12330 non-null  uint8  \n",
      " 23  Month_Oct                      12330 non-null  uint8  \n",
      " 24  Month_Sep                      12330 non-null  uint8  \n",
      " 25  VisitorType_New_Visitor        12330 non-null  uint8  \n",
      " 26  VisitorType_Other              12330 non-null  uint8  \n",
      " 27  VisitorType_Returning_Visitor  12330 non-null  uint8  \n",
      "dtypes: bool(1), float64(7), int64(7), uint8(13)\n",
      "memory usage: 1.5 MB\n"
     ]
    }
   ],
   "source": [
    "X = pd.get_dummies(X)\n",
    "X.info()"
   ]
  },
  {
   "cell_type": "code",
   "execution_count": 34,
   "id": "8f15ae8e",
   "metadata": {},
   "outputs": [],
   "source": [
    "X_train, X_test, y_train, y_test = train_test_split(X, Y, \n",
    "                                                   test_size=0.3,\n",
    "                                                   random_state=97)"
   ]
  },
  {
   "cell_type": "code",
   "execution_count": 35,
   "id": "7df4f7a9",
   "metadata": {},
   "outputs": [
    {
     "name": "stdout",
     "output_type": "stream",
     "text": [
      "Размерность набора данных X_train:(8631, 28)\n",
      "Размерность набора данных y_train:(8631,)\n",
      "Размерность набора данных X_test:(3699, 28)\n",
      "Размерность набора данных y_test:(3699,)\n"
     ]
    }
   ],
   "source": [
    "# смотрим на размерность сформированных наборов данных\n",
    "print(f'Размерность набора данных X_train:{X_train.shape}')\n",
    "print(f'Размерность набора данных y_train:{y_train.shape}')\n",
    "print(f'Размерность набора данных X_test:{X_test.shape}')\n",
    "print(f'Размерность набора данных y_test:{y_test.shape}')"
   ]
  },
  {
   "cell_type": "markdown",
   "id": "c8660baf",
   "metadata": {},
   "source": [
    "Посчитаем логистическую регрессию"
   ]
  },
  {
   "cell_type": "code",
   "execution_count": 47,
   "id": "257fdaea",
   "metadata": {},
   "outputs": [
    {
     "name": "stdout",
     "output_type": "stream",
     "text": [
      "              precision    recall  f1-score   support\n",
      "\n",
      "       False       0.89      0.97      0.93      3125\n",
      "        True       0.73      0.37      0.49       574\n",
      "\n",
      "    accuracy                           0.88      3699\n",
      "   macro avg       0.81      0.67      0.71      3699\n",
      "weighted avg       0.87      0.88      0.86      3699\n",
      "\n"
     ]
    }
   ],
   "source": [
    "lregress1 = LogisticRegression()\n",
    "lregress1.fit(X_train, y_train.ravel())\n",
    "prediction = lregress1.predict(X_test)\n",
    "print(classification_report(y_test, prediction))\n"
   ]
  },
  {
   "cell_type": "code",
   "execution_count": 51,
   "id": "277f2f2a",
   "metadata": {},
   "outputs": [
    {
     "name": "stdout",
     "output_type": "stream",
     "text": [
      "Количество True:1334\n",
      "Количество False:7297\n"
     ]
    }
   ],
   "source": [
    "print(f'Количество True:{sum(y_train==True)}')\n",
    "print(f'Количество False:{sum(y_train==False)}')"
   ]
  },
  {
   "cell_type": "code",
   "execution_count": 53,
   "id": "ab6d773b",
   "metadata": {},
   "outputs": [
    {
     "name": "stdout",
     "output_type": "stream",
     "text": [
      "Количество True после применения:1334\n",
      "Количество False:1334\n"
     ]
    }
   ],
   "source": [
    "nm = NearMiss()\n",
    "X_train_miss, y_train_miss = nm.fit_resample(X_train, y_train.ravel())\n",
    "print(f'Количество True после применения:{sum(y_train_miss==True)}')\n",
    "print(f'Количество False:{sum(y_train_miss==False)}')"
   ]
  },
  {
   "cell_type": "code",
   "execution_count": 55,
   "id": "692fbce7",
   "metadata": {},
   "outputs": [
    {
     "name": "stdout",
     "output_type": "stream",
     "text": [
      "              precision    recall  f1-score   support\n",
      "\n",
      "       False       0.98      0.47      0.64      3125\n",
      "        True       0.25      0.96      0.40       574\n",
      "\n",
      "    accuracy                           0.55      3699\n",
      "   macro avg       0.62      0.72      0.52      3699\n",
      "weighted avg       0.87      0.55      0.60      3699\n",
      "\n"
     ]
    }
   ],
   "source": [
    "lregress2 = LogisticRegression()\n",
    "lregress2.fit(X_train_miss, y_train_miss.ravel())\n",
    "prediction = lregress2.predict(X_test)\n",
    "print(classification_report(y_test, prediction))"
   ]
  },
  {
   "cell_type": "code",
   "execution_count": null,
   "id": "5490bc28",
   "metadata": {},
   "outputs": [],
   "source": []
  }
 ],
 "metadata": {
  "kernelspec": {
   "display_name": "Python 3 (ipykernel)",
   "language": "python",
   "name": "python3"
  },
  "language_info": {
   "codemirror_mode": {
    "name": "ipython",
    "version": 3
   },
   "file_extension": ".py",
   "mimetype": "text/x-python",
   "name": "python",
   "nbconvert_exporter": "python",
   "pygments_lexer": "ipython3",
   "version": "3.11.4"
  }
 },
 "nbformat": 4,
 "nbformat_minor": 5
}
