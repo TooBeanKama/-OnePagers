{
 "cells": [
  {
   "cell_type": "code",
   "execution_count": 13,
   "id": "2786e310",
   "metadata": {},
   "outputs": [],
   "source": [
    "from datetime import timedelta\n",
    "import cv2\n",
    "import numpy as np\n",
    "import os"
   ]
  },
  {
   "cell_type": "code",
   "execution_count": 14,
   "id": "11b0db26",
   "metadata": {},
   "outputs": [],
   "source": [
    "#!pip install opencv-python"
   ]
  },
  {
   "cell_type": "code",
   "execution_count": 15,
   "id": "9143ff2c",
   "metadata": {},
   "outputs": [],
   "source": [
    "SAVING_FRAMES_PER_SECOND = 25"
   ]
  },
  {
   "cell_type": "code",
   "execution_count": 16,
   "id": "38e1450c",
   "metadata": {},
   "outputs": [],
   "source": [
    "def format_timedelta(td):\n",
    "    \"\"\"\n",
    "    Установим формат дат: исключим микросекунды и сохраним миллисекунды\n",
    "    \"\"\"\n",
    "    \n",
    "    result = str(td)\n",
    "    \n",
    "    try:\n",
    "        result, ms = result.split(\".\")\n",
    "        \n",
    "    except ValueError:\n",
    "        return result + \".00\".replace(\":\",\"-\")\n",
    "    ms = int(ms)\n",
    "    ms = round(ms/1e4)\n",
    "    return f\"{result}.{ms:02}\".replace(\":\",\"-\")\n",
    "\n",
    "def get_saving_frames_duration(cap, saving_fps):\n",
    "    \"\"\"\n",
    "    Возвращает список последовательностей, в которые следует сохранять кадры\n",
    "    \"\"\"\n",
    "    s = []\n",
    "    # получаем продолжительность клипа, \n",
    "    # разделив количество кадров на количество кадров в секунду\n",
    "    clip_duration = cap.get(cv2.CAP_PROP_FRAME_COUNT) / cap.get(cv2.CAP_PROP_FPS)\n",
    "\n",
    "    print('clip_duration: ', clip_duration)\n",
    "    \n",
    "    for i in np.arange(0, clip_duration, 1/saving_fps):\n",
    "        s.append(round(i, 2))\n",
    "    return s     \n",
    "    \n",
    "    "
   ]
  },
  {
   "cell_type": "code",
   "execution_count": 17,
   "id": "9134d5d0",
   "metadata": {},
   "outputs": [],
   "source": [
    "def main(video_file):\n",
    "    filename, _ = os.path.splitext(video_file)\n",
    "    filename += '-opencv'\n",
    "    \n",
    "    # создаем папку по названию файла\n",
    "    if not os.path.isdir(filename):\n",
    "        os.mkdir(filename)\n",
    "        \n",
    "    # читаем видео файл\n",
    "    cap = cv2.VideoCapture(video_file)\n",
    "    \n",
    "    # получаем FPS видео\n",
    "    fps = cap.get(cv2.CAP_PROP_FPS)\n",
    "    \n",
    "    saving_frames_per_second = min(fps, SAVING_FRAMES_PER_SECOND)\n",
    "    \n",
    "    # получаем список длительностей для сохранения\n",
    "    saving_frames_durations = get_saving_frames_duration(cap,\n",
    "                                  saving_frames_per_second)\n",
    "    \n",
    "    # запускаем цикл\n",
    "    count = 0\n",
    "    while True:\n",
    "        is_read, frame = cap.read()\n",
    "        if not is_read:\n",
    "            # выходим из цикла, если нет фреймов для чтения\n",
    "            print('Фреймы для чтения закончились')\n",
    "            break\n",
    "            \n",
    "        # получаем продолжительность, разделив количество кадров на FPS\n",
    "        frame_duration = count / fps\n",
    "        \n",
    "        try:\n",
    "            # получить самую раннюю продолжительность для сохранения\n",
    "            closest_duration = saving_frames_durations[0]\n",
    "        except IndexError:\n",
    "            print('point 2')\n",
    "            # список пуст, все кадрый длительности сохранены\n",
    "            break\n",
    "        if frame_duration >= closest_duration:\n",
    "            # если ближайшая длительность меньше или равна\n",
    "            # длительности кадра, затем сохраняем фрейм\n",
    "            frame_duration_formatted = format_timedelta(timedelta(seconds=frame_duration))\n",
    "            \n",
    "            cv2.imwrite(os.path.join(filename,\n",
    "                                    f'frame{frame_duration_formatted}.jpg'),\n",
    "                       frame)\n",
    "            \n",
    "            # удалить толчку продолжительности из списка, так как эта точка\n",
    "            # длительности уже сохранена\n",
    "            \n",
    "            try:\n",
    "                saving_frames_durations.pop(0)\n",
    "            except IndexError:\n",
    "                print('point 3')\n",
    "                \n",
    "            # увеличить количество кадров\n",
    "            count += 1"
   ]
  },
  {
   "cell_type": "code",
   "execution_count": 18,
   "id": "1d2cac70",
   "metadata": {
    "scrolled": false
   },
   "outputs": [
    {
     "name": "stdout",
     "output_type": "stream",
     "text": [
      "clip_duration:  264.28\n",
      "Фреймы для чтения закончились\n",
      "done\n"
     ]
    }
   ],
   "source": [
    "video_file = \"Queen of Hearts in  Alice's Adventures in Wonderland.mp4\"\n",
    "main(video_file)\n",
    "print('done')"
   ]
  },
  {
   "cell_type": "code",
   "execution_count": null,
   "id": "cff93db2",
   "metadata": {},
   "outputs": [],
   "source": []
  }
 ],
 "metadata": {
  "kernelspec": {
   "display_name": "Python 3 (ipykernel)",
   "language": "python",
   "name": "python3"
  },
  "language_info": {
   "codemirror_mode": {
    "name": "ipython",
    "version": 3
   },
   "file_extension": ".py",
   "mimetype": "text/x-python",
   "name": "python",
   "nbconvert_exporter": "python",
   "pygments_lexer": "ipython3",
   "version": "3.11.4"
  }
 },
 "nbformat": 4,
 "nbformat_minor": 5
}
