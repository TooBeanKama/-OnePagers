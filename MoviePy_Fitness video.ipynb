{
 "cells": [
  {
   "cell_type": "code",
   "execution_count": 1,
   "id": "be6960b5",
   "metadata": {},
   "outputs": [],
   "source": [
    "import moviepy\n",
    "from moviepy.editor import VideoFileClip, concatenate_videoclips\n",
    "import os"
   ]
  },
  {
   "cell_type": "code",
   "execution_count": 2,
   "id": "fb4ff3b6",
   "metadata": {},
   "outputs": [
    {
     "data": {
      "text/plain": [
       "['02 - Plyometric Cardio Circuit.MP4',\n",
       " 'Insanity.Fast_and_Furious.[x264.aac].tRuAVC.mkv',\n",
       " 'Jillian Michaels - Banish Fat Boost Metabolism.avi',\n",
       " 'Move Your Body.mp4',\n",
       " 'Power_90.In-Home_Boot_Camp.04.Sculpt_Circuit_3-4.avi',\n",
       " 'Power_90.In-Home_Boot_Camp.05.Sweat_Cardio_3-4.avi',\n",
       " 'Power_90.In-Home_Boot_Camp.06.Ab_Riper_200.avi',\n",
       " 'Sweat Sensation.mp4',\n",
       " 'Week 1 - 1  Chesttriceps 5050.mp4',\n",
       " 'Week 1 - 2  Back and biceps - circuit.mp4',\n",
       " 'Week 1 - 3   Shoulders Liift Intervals.mp4',\n",
       " 'Week 1 - 4   Legs Liift 5050.mp4']"
      ]
     },
     "execution_count": 2,
     "metadata": {},
     "output_type": "execute_result"
    }
   ],
   "source": [
    "path = r'C:\\Fitnes_'\n",
    "files = os.listdir(path)\n",
    "files"
   ]
  },
  {
   "cell_type": "code",
   "execution_count": 4,
   "id": "b23644e6",
   "metadata": {},
   "outputs": [
    {
     "name": "stdout",
     "output_type": "stream",
     "text": [
      "Moviepy - Building video Cardio_Solyanka.MP4.\n",
      "MoviePy - Writing audio in Cardio_SolyankaTEMP_MPY_wvf_snd.mp3\n"
     ]
    },
    {
     "name": "stderr",
     "output_type": "stream",
     "text": [
      "                                                                                                                       \r"
     ]
    },
    {
     "name": "stdout",
     "output_type": "stream",
     "text": [
      "MoviePy - Done.\n",
      "Moviepy - Writing video Cardio_Solyanka.MP4\n",
      "\n"
     ]
    },
    {
     "name": "stderr",
     "output_type": "stream",
     "text": [
      "                                                                                                                       \r"
     ]
    },
    {
     "name": "stdout",
     "output_type": "stream",
     "text": [
      "Moviepy - Done !\n",
      "Moviepy - video ready Cardio_Solyanka.MP4\n"
     ]
    }
   ],
   "source": [
    "# cardio_YouV2\n",
    "part1 = VideoFileClip(os.path.join(path, 'Move Your Body.mp4')).subclip(9, 335).resize(height=480)\n",
    "part2 = VideoFileClip(os.path.join(path, 'Power_90.In-Home_Boot_Camp.05.Sweat_Cardio_3-4.avi')).subclip(560, 1099).resize(height=480)\n",
    "part3 = VideoFileClip(os.path.join(path, '02 - Plyometric Cardio Circuit.MP4')).subclip(50, 680).resize(height=480)\n",
    "part4 = VideoFileClip(os.path.join(path, 'Power_90.In-Home_Boot_Camp.05.Sweat_Cardio_3-4.avi')).subclip(1785, 2254).resize(height=480)\n",
    "part5 = VideoFileClip(os.path.join(path, 'Jillian Michaels - Banish Fat Boost Metabolism.avi')).subclip(1083, 1476).resize(height=480)\n",
    "part6 = VideoFileClip(os.path.join(path, '02 - Plyometric Cardio Circuit.MP4')).subclip(2199, 2325).resize(height=480)\n",
    "\n",
    "\n",
    "final_render = concatenate_videoclips([part1, part2, part3, part4, part5, part6], method='compose')\n",
    "final_render.write_videofile('Cardio_Solyanka.MP4', codec=\"libx264\")"
   ]
  },
  {
   "cell_type": "code",
   "execution_count": 6,
   "id": "515eb721",
   "metadata": {},
   "outputs": [
    {
     "name": "stdout",
     "output_type": "stream",
     "text": [
      "Moviepy - Building video Sculpt.MP4.\n",
      "MoviePy - Writing audio in SculptTEMP_MPY_wvf_snd.mp3\n"
     ]
    },
    {
     "name": "stderr",
     "output_type": "stream",
     "text": [
      "                                                                                                                       \r"
     ]
    },
    {
     "name": "stdout",
     "output_type": "stream",
     "text": [
      "MoviePy - Done.\n",
      "Moviepy - Writing video Sculpt.MP4\n",
      "\n"
     ]
    },
    {
     "name": "stderr",
     "output_type": "stream",
     "text": [
      "                                                                                                                       \r"
     ]
    },
    {
     "name": "stdout",
     "output_type": "stream",
     "text": [
      "Moviepy - Done !\n",
      "Moviepy - video ready Sculpt.MP4\n"
     ]
    }
   ],
   "source": [
    "# strength\n",
    "part1 = VideoFileClip(os.path.join(path, 'Move Your Body.mp4')).subclip(9, 335).resize(height=480)\n",
    "part2 = VideoFileClip(os.path.join(path,  'Week 1 - 1  Chesttriceps 5050.mp4')).subclip(183, 470).resize(height=480)\n",
    "part3 = VideoFileClip(os.path.join(path,  'Week 1 - 1  Chesttriceps 5050.mp4')).subclip(535, 860).resize(height=480)\n",
    "part4 = VideoFileClip(os.path.join(path,  'Week 1 - 2  Back and biceps - circuit.mp4')).subclip(165, 700).resize(height=480)\n",
    "part5 = VideoFileClip(os.path.join(path,  'Week 1 - 2  Back and biceps - circuit.mp4')).subclip(765, 1160).resize(height=480)\n",
    "\n",
    "final_render = concatenate_videoclips([intro, part1, part2], method='compose')\n",
    "final_render.write_videofile('Sculpt.MP4', codec=\"libx264\")"
   ]
  },
  {
   "cell_type": "code",
   "execution_count": null,
   "id": "05e50dea",
   "metadata": {},
   "outputs": [],
   "source": [
    "Power_90.In-Home_Boot_Camp.01.Sculpt_Circuit_1-2"
   ]
  },
  {
   "cell_type": "code",
   "execution_count": null,
   "id": "6049ea60",
   "metadata": {},
   "outputs": [],
   "source": []
  }
 ],
 "metadata": {
  "kernelspec": {
   "display_name": "Python 3 (ipykernel)",
   "language": "python",
   "name": "python3"
  },
  "language_info": {
   "codemirror_mode": {
    "name": "ipython",
    "version": 3
   },
   "file_extension": ".py",
   "mimetype": "text/x-python",
   "name": "python",
   "nbconvert_exporter": "python",
   "pygments_lexer": "ipython3",
   "version": "3.11.4"
  }
 },
 "nbformat": 4,
 "nbformat_minor": 5
}
