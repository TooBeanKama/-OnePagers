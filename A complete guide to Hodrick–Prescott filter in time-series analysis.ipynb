{
 "cells": [
  {
   "cell_type": "markdown",
   "id": "a46dcfd5",
   "metadata": {},
   "source": [
    "# A complete guide to Hodrick–Prescott filter in time-series analysis\n",
    "https://analyticsindiamag.com/a-complete-guide-to-hodrick-prescott-filter-in-time-series-analysis/\n",
    "\n",
    "+ Фильтр Ходрика-Прескотта или разложение Ходрика-Прескотта - это математический инструмент, который используется в анализе и моделировании временных рядов. \n",
    "+ Этот фильтр в основном полезен для удаления циклической составляющей из данных временных рядов.\n",
    "\n",
    "\n",
    "В анализе и моделировании временных рядов детрендинг играет важнейшую роль, так как с его помощью мы знакомимся с циклическими и другими закономерностями временных рядов. \n",
    "\n",
    "Процесс детрендинга заключается в удалении эффекта тренда из временного ряда для выявления отличий значений от тренда. \n",
    "\n",
    "Используя различные фильтры, такие как \n",
    "+ полосовой фильтр (Band-Pass Filter),  \n",
    "+ фильтр Бакстера-Кинга (BK Filter) и \n",
    "фильтр Ходрика-Прескотта, \n",
    "\n",
    "мы можем выполнить детрендинг временных рядов. \n",
    "\n",
    "В этой статье мы подробно рассмотрим один из этих фильтров для детрендинга временных рядов, фильтр Ходрика-Прескотта (HP), и его практическую реализацию. Основные моменты, которые будут обсуждаться в этой статье, перечислены ниже.\n",
    "\n",
    "## About Hodrick–Prescott filter\n",
    "+ Применение фильтра Ходрика-Прескотта во временных рядах позволяет получить гладкий временной ряд из временного ряда, в котором в большом количестве присутствуют такие компоненты временного ряда, как трендовый цикл и шум. \n",
    "+ Этот фильтр назван по именам экономистов Роберта Дж. Ходрика и Эдварда К. Прескотта.   \n",
    "\n",
    "### How does the Hodrick–Prescott filter work?\n",
    "\n",
    "Математически основная идея этого фильтра связана с концепциями разложения временных рядов. Поясним это математически на примере временного ряда $y_t$.\n",
    "\n",
    "$$\n",
    "y_t = \\tau_t + c_t + \\epsilon_t\n",
    "$$\n",
    "\n",
    "где\n",
    "+ $\\tau_t$ - трендовая компонента\n",
    "+ $c_t$ - циклическая компонента\n",
    "+ $\\epsilon_t$ + шум\n",
    "\n",
    "Краткосрочные колебания трендовой составляющей временного ряда могут быть скорректированы с помощью множителя . \n",
    "\n",
    "Трендовая составляющая временного ряда можно найти путем:\n",
    "\n",
    "$$\n",
    "min_{\\tau}\\left(\\sum_{t=1}^T(y_t-\\tau_t)^2+\\lambda\\sum_{t=2}^{T-1}[(\\tau_{t+1}-\\tau_t)-(\\tau_t-\\tau_{t-1})]^2\\right)\n",
    "$$\n",
    "\n",
    "+ Первый член уравнения наказывает циклическую составляющую, \n",
    "+ а второй член уравнения наказывает скорость роста трендовой составляющей. Так что если скорость увеличивается, значит, штраф увеличивается. \n",
    "\n",
    "В соответствии с фильтром Ходрика-Прескотта значение параметра \n",
    "+ для данных за 3 месяца должно быть 1600. \n",
    "+ для одного года должно быть 100 и \n",
    "+ 14 400, если данные ежемесячные. \n",
    "\n",
    "Фильтр Ходрика-Прескотта можно представить в виде:\n"
   ]
  },
  {
   "cell_type": "code",
   "execution_count": 7,
   "id": "39b54cd9",
   "metadata": {},
   "outputs": [
    {
     "data": {
      "text/html": [
       "<div>\n",
       "<style scoped>\n",
       "    .dataframe tbody tr th:only-of-type {\n",
       "        vertical-align: middle;\n",
       "    }\n",
       "\n",
       "    .dataframe tbody tr th {\n",
       "        vertical-align: top;\n",
       "    }\n",
       "\n",
       "    .dataframe thead th {\n",
       "        text-align: right;\n",
       "    }\n",
       "</style>\n",
       "<table border=\"1\" class=\"dataframe\">\n",
       "  <thead>\n",
       "    <tr style=\"text-align: right;\">\n",
       "      <th></th>\n",
       "      <th>year</th>\n",
       "      <th>quarter</th>\n",
       "      <th>realgdp</th>\n",
       "      <th>realcons</th>\n",
       "      <th>realinv</th>\n",
       "      <th>realgovt</th>\n",
       "      <th>realdpi</th>\n",
       "      <th>cpi</th>\n",
       "      <th>m1</th>\n",
       "      <th>tbilrate</th>\n",
       "      <th>unemp</th>\n",
       "      <th>pop</th>\n",
       "      <th>infl</th>\n",
       "      <th>realint</th>\n",
       "    </tr>\n",
       "  </thead>\n",
       "  <tbody>\n",
       "    <tr>\n",
       "      <th>1959Q1</th>\n",
       "      <td>1959.0</td>\n",
       "      <td>1.0</td>\n",
       "      <td>2710.349</td>\n",
       "      <td>1707.4</td>\n",
       "      <td>286.898</td>\n",
       "      <td>470.045</td>\n",
       "      <td>1886.9</td>\n",
       "      <td>28.98</td>\n",
       "      <td>139.7</td>\n",
       "      <td>2.82</td>\n",
       "      <td>5.8</td>\n",
       "      <td>177.146</td>\n",
       "      <td>0.00</td>\n",
       "      <td>0.00</td>\n",
       "    </tr>\n",
       "    <tr>\n",
       "      <th>1959Q2</th>\n",
       "      <td>1959.0</td>\n",
       "      <td>2.0</td>\n",
       "      <td>2778.801</td>\n",
       "      <td>1733.7</td>\n",
       "      <td>310.859</td>\n",
       "      <td>481.301</td>\n",
       "      <td>1919.7</td>\n",
       "      <td>29.15</td>\n",
       "      <td>141.7</td>\n",
       "      <td>3.08</td>\n",
       "      <td>5.1</td>\n",
       "      <td>177.830</td>\n",
       "      <td>2.34</td>\n",
       "      <td>0.74</td>\n",
       "    </tr>\n",
       "    <tr>\n",
       "      <th>1959Q3</th>\n",
       "      <td>1959.0</td>\n",
       "      <td>3.0</td>\n",
       "      <td>2775.488</td>\n",
       "      <td>1751.8</td>\n",
       "      <td>289.226</td>\n",
       "      <td>491.260</td>\n",
       "      <td>1916.4</td>\n",
       "      <td>29.35</td>\n",
       "      <td>140.5</td>\n",
       "      <td>3.82</td>\n",
       "      <td>5.3</td>\n",
       "      <td>178.657</td>\n",
       "      <td>2.74</td>\n",
       "      <td>1.09</td>\n",
       "    </tr>\n",
       "    <tr>\n",
       "      <th>1959Q4</th>\n",
       "      <td>1959.0</td>\n",
       "      <td>4.0</td>\n",
       "      <td>2785.204</td>\n",
       "      <td>1753.7</td>\n",
       "      <td>299.356</td>\n",
       "      <td>484.052</td>\n",
       "      <td>1931.3</td>\n",
       "      <td>29.37</td>\n",
       "      <td>140.0</td>\n",
       "      <td>4.33</td>\n",
       "      <td>5.6</td>\n",
       "      <td>179.386</td>\n",
       "      <td>0.27</td>\n",
       "      <td>4.06</td>\n",
       "    </tr>\n",
       "    <tr>\n",
       "      <th>1960Q1</th>\n",
       "      <td>1960.0</td>\n",
       "      <td>1.0</td>\n",
       "      <td>2847.699</td>\n",
       "      <td>1770.5</td>\n",
       "      <td>331.722</td>\n",
       "      <td>462.199</td>\n",
       "      <td>1955.5</td>\n",
       "      <td>29.54</td>\n",
       "      <td>139.6</td>\n",
       "      <td>3.50</td>\n",
       "      <td>5.2</td>\n",
       "      <td>180.007</td>\n",
       "      <td>2.31</td>\n",
       "      <td>1.19</td>\n",
       "    </tr>\n",
       "  </tbody>\n",
       "</table>\n",
       "</div>"
      ],
      "text/plain": [
       "          year  quarter   realgdp  realcons  realinv  realgovt  realdpi  \\\n",
       "1959Q1  1959.0      1.0  2710.349    1707.4  286.898   470.045   1886.9   \n",
       "1959Q2  1959.0      2.0  2778.801    1733.7  310.859   481.301   1919.7   \n",
       "1959Q3  1959.0      3.0  2775.488    1751.8  289.226   491.260   1916.4   \n",
       "1959Q4  1959.0      4.0  2785.204    1753.7  299.356   484.052   1931.3   \n",
       "1960Q1  1960.0      1.0  2847.699    1770.5  331.722   462.199   1955.5   \n",
       "\n",
       "          cpi     m1  tbilrate  unemp      pop  infl  realint  \n",
       "1959Q1  28.98  139.7      2.82    5.8  177.146  0.00     0.00  \n",
       "1959Q2  29.15  141.7      3.08    5.1  177.830  2.34     0.74  \n",
       "1959Q3  29.35  140.5      3.82    5.3  178.657  2.74     1.09  \n",
       "1959Q4  29.37  140.0      4.33    5.6  179.386  0.27     4.06  \n",
       "1960Q1  29.54  139.6      3.50    5.2  180.007  2.31     1.19  "
      ]
     },
     "execution_count": 7,
     "metadata": {},
     "output_type": "execute_result"
    }
   ],
   "source": [
    "import statsmodels.api as sm\n",
    "import pandas as pd\n",
    "import matplotlib.pyplot as plt\n",
    "\n",
    "data = sm.datasets.macrodata.load_pandas().data\n",
    "\n",
    "# делаем индекс\n",
    "data.set_index(pd.period_range('1959Q1', '2009Q3', freq='Q'), inplace=True)\n",
    "data.head()"
   ]
  },
  {
   "cell_type": "code",
   "execution_count": 33,
   "id": "dd4b133c",
   "metadata": {},
   "outputs": [
    {
     "data": {
      "text/html": [
       "<div>\n",
       "<style scoped>\n",
       "    .dataframe tbody tr th:only-of-type {\n",
       "        vertical-align: middle;\n",
       "    }\n",
       "\n",
       "    .dataframe tbody tr th {\n",
       "        vertical-align: top;\n",
       "    }\n",
       "\n",
       "    .dataframe thead th {\n",
       "        text-align: right;\n",
       "    }\n",
       "</style>\n",
       "<table border=\"1\" class=\"dataframe\">\n",
       "  <thead>\n",
       "    <tr style=\"text-align: right;\">\n",
       "      <th></th>\n",
       "      <th>year</th>\n",
       "      <th>quarter</th>\n",
       "      <th>realgdp</th>\n",
       "      <th>realcons</th>\n",
       "      <th>realinv</th>\n",
       "      <th>realgovt</th>\n",
       "      <th>realdpi</th>\n",
       "      <th>cpi</th>\n",
       "      <th>m1</th>\n",
       "      <th>tbilrate</th>\n",
       "      <th>unemp</th>\n",
       "      <th>pop</th>\n",
       "      <th>infl</th>\n",
       "      <th>realint</th>\n",
       "    </tr>\n",
       "  </thead>\n",
       "  <tbody>\n",
       "    <tr>\n",
       "      <th>2008Q3</th>\n",
       "      <td>2008.0</td>\n",
       "      <td>3.0</td>\n",
       "      <td>13324.600</td>\n",
       "      <td>9267.7</td>\n",
       "      <td>1990.693</td>\n",
       "      <td>991.551</td>\n",
       "      <td>9838.3</td>\n",
       "      <td>216.889</td>\n",
       "      <td>1474.7</td>\n",
       "      <td>1.17</td>\n",
       "      <td>6.0</td>\n",
       "      <td>305.270</td>\n",
       "      <td>-3.16</td>\n",
       "      <td>4.33</td>\n",
       "    </tr>\n",
       "    <tr>\n",
       "      <th>2008Q4</th>\n",
       "      <td>2008.0</td>\n",
       "      <td>4.0</td>\n",
       "      <td>13141.920</td>\n",
       "      <td>9195.3</td>\n",
       "      <td>1857.661</td>\n",
       "      <td>1007.273</td>\n",
       "      <td>9920.4</td>\n",
       "      <td>212.174</td>\n",
       "      <td>1576.5</td>\n",
       "      <td>0.12</td>\n",
       "      <td>6.9</td>\n",
       "      <td>305.952</td>\n",
       "      <td>-8.79</td>\n",
       "      <td>8.91</td>\n",
       "    </tr>\n",
       "    <tr>\n",
       "      <th>2009Q1</th>\n",
       "      <td>2009.0</td>\n",
       "      <td>1.0</td>\n",
       "      <td>12925.410</td>\n",
       "      <td>9209.2</td>\n",
       "      <td>1558.494</td>\n",
       "      <td>996.287</td>\n",
       "      <td>9926.4</td>\n",
       "      <td>212.671</td>\n",
       "      <td>1592.8</td>\n",
       "      <td>0.22</td>\n",
       "      <td>8.1</td>\n",
       "      <td>306.547</td>\n",
       "      <td>0.94</td>\n",
       "      <td>-0.71</td>\n",
       "    </tr>\n",
       "    <tr>\n",
       "      <th>2009Q2</th>\n",
       "      <td>2009.0</td>\n",
       "      <td>2.0</td>\n",
       "      <td>12901.504</td>\n",
       "      <td>9189.0</td>\n",
       "      <td>1456.678</td>\n",
       "      <td>1023.528</td>\n",
       "      <td>10077.5</td>\n",
       "      <td>214.469</td>\n",
       "      <td>1653.6</td>\n",
       "      <td>0.18</td>\n",
       "      <td>9.2</td>\n",
       "      <td>307.226</td>\n",
       "      <td>3.37</td>\n",
       "      <td>-3.19</td>\n",
       "    </tr>\n",
       "    <tr>\n",
       "      <th>2009Q3</th>\n",
       "      <td>2009.0</td>\n",
       "      <td>3.0</td>\n",
       "      <td>12990.341</td>\n",
       "      <td>9256.0</td>\n",
       "      <td>1486.398</td>\n",
       "      <td>1044.088</td>\n",
       "      <td>10040.6</td>\n",
       "      <td>216.385</td>\n",
       "      <td>1673.9</td>\n",
       "      <td>0.12</td>\n",
       "      <td>9.6</td>\n",
       "      <td>308.013</td>\n",
       "      <td>3.56</td>\n",
       "      <td>-3.44</td>\n",
       "    </tr>\n",
       "  </tbody>\n",
       "</table>\n",
       "</div>"
      ],
      "text/plain": [
       "          year  quarter    realgdp  realcons   realinv  realgovt  realdpi  \\\n",
       "2008Q3  2008.0      3.0  13324.600    9267.7  1990.693   991.551   9838.3   \n",
       "2008Q4  2008.0      4.0  13141.920    9195.3  1857.661  1007.273   9920.4   \n",
       "2009Q1  2009.0      1.0  12925.410    9209.2  1558.494   996.287   9926.4   \n",
       "2009Q2  2009.0      2.0  12901.504    9189.0  1456.678  1023.528  10077.5   \n",
       "2009Q3  2009.0      3.0  12990.341    9256.0  1486.398  1044.088  10040.6   \n",
       "\n",
       "            cpi      m1  tbilrate  unemp      pop  infl  realint  \n",
       "2008Q3  216.889  1474.7      1.17    6.0  305.270 -3.16     4.33  \n",
       "2008Q4  212.174  1576.5      0.12    6.9  305.952 -8.79     8.91  \n",
       "2009Q1  212.671  1592.8      0.22    8.1  306.547  0.94    -0.71  \n",
       "2009Q2  214.469  1653.6      0.18    9.2  307.226  3.37    -3.19  \n",
       "2009Q3  216.385  1673.9      0.12    9.6  308.013  3.56    -3.44  "
      ]
     },
     "execution_count": 33,
     "metadata": {},
     "output_type": "execute_result"
    }
   ],
   "source": [
    "data.tail()"
   ]
  },
  {
   "cell_type": "code",
   "execution_count": 4,
   "id": "0bf041f0",
   "metadata": {},
   "outputs": [
    {
     "data": {
      "text/plain": [
       "Index(['year', 'quarter', 'realgdp', 'realcons', 'realinv', 'realgovt',\n",
       "       'realdpi', 'cpi', 'm1', 'tbilrate', 'unemp', 'pop', 'infl', 'realint'],\n",
       "      dtype='object')"
      ]
     },
     "execution_count": 4,
     "metadata": {},
     "output_type": "execute_result"
    }
   ],
   "source": [
    "data.columns"
   ]
  },
  {
   "cell_type": "code",
   "execution_count": 5,
   "id": "799f80e1",
   "metadata": {},
   "outputs": [
    {
     "name": "stdout",
     "output_type": "stream",
     "text": [
      "::\n",
      "    Number of Observations - 203\n",
      "\n",
      "    Number of Variables - 14\n",
      "\n",
      "    Variable name definitions::\n",
      "\n",
      "        year      - 1959q1 - 2009q3\n",
      "        quarter   - 1-4\n",
      "        realgdp   - Real gross domestic product (Bil. of chained 2005 US$,\n",
      "                    seasonally adjusted annual rate)\n",
      "        realcons  - Real personal consumption expenditures (Bil. of chained\n",
      "                    2005 US$, seasonally adjusted annual rate)\n",
      "        realinv   - Real gross private domestic investment (Bil. of chained\n",
      "                    2005 US$, seasonally adjusted annual rate)\n",
      "        realgovt  - Real federal consumption expenditures & gross investment\n",
      "                    (Bil. of chained 2005 US$, seasonally adjusted annual rate)\n",
      "        realdpi   - Real private disposable income (Bil. of chained 2005\n",
      "                    US$, seasonally adjusted annual rate)\n",
      "        cpi       - End of the quarter consumer price index for all urban\n",
      "                    consumers: all items (1982-84 = 100, seasonally adjusted).\n",
      "        m1        - End of the quarter M1 nominal money stock (Seasonally\n",
      "                    adjusted)\n",
      "        tbilrate  - Quarterly monthly average of the monthly 3-month\n",
      "                    treasury bill: secondary market rate\n",
      "        unemp     - Seasonally adjusted unemployment rate (%)\n",
      "        pop       - End of the quarter total population: all ages incl. armed\n",
      "                    forces over seas\n",
      "        infl      - Inflation rate (ln(cpi_{t}/cpi_{t-1}) * 400)\n",
      "        realint   - Real interest rate (tbilrate - infl)\n",
      "\n"
     ]
    }
   ],
   "source": [
    "# будем работать с realgdp\n",
    "print(sm.datasets.macrodata.NOTE)"
   ]
  },
  {
   "cell_type": "code",
   "execution_count": 20,
   "id": "63dfe3e5",
   "metadata": {},
   "outputs": [
    {
     "data": {
      "image/png": "[encoded data removed]",
      "text/plain": [
       "<Figure size 432x288 with 1 Axes>"
      ]
     },
     "metadata": {
      "needs_background": "light"
     },
     "output_type": "display_data"
    }
   ],
   "source": [
    "fig, ax = plt.subplots()\n",
    "data['realgdp']['2000-03-31':].plot(ax=ax, fontsize=12);"
   ]
  },
  {
   "cell_type": "markdown",
   "id": "2fa2a5dd",
   "metadata": {},
   "source": [
    "+ На изображении хорошо видно, что рост временного ряда realgdp не является плавным. \n",
    "+ По этому графику можно сказать, что в данных временного ряда присутствуют тренды и циклические компоненты. \n",
    "\n",
    "Теперь, чтобы справиться с этим, мы можем использовать фильтр HP для разделения временного ряда на составляющие. "
   ]
  },
  {
   "cell_type": "code",
   "execution_count": 25,
   "id": "72df303f",
   "metadata": {},
   "outputs": [
    {
     "data": {
      "text/html": [
       "<div>\n",
       "<style scoped>\n",
       "    .dataframe tbody tr th:only-of-type {\n",
       "        vertical-align: middle;\n",
       "    }\n",
       "\n",
       "    .dataframe tbody tr th {\n",
       "        vertical-align: top;\n",
       "    }\n",
       "\n",
       "    .dataframe thead th {\n",
       "        text-align: right;\n",
       "    }\n",
       "</style>\n",
       "<table border=\"1\" class=\"dataframe\">\n",
       "  <thead>\n",
       "    <tr style=\"text-align: right;\">\n",
       "      <th></th>\n",
       "      <th>realgdp</th>\n",
       "      <th>cycle</th>\n",
       "      <th>trend</th>\n",
       "    </tr>\n",
       "  </thead>\n",
       "  <tbody>\n",
       "    <tr>\n",
       "      <th>1959Q1</th>\n",
       "      <td>2710.349</td>\n",
       "      <td>39.511915</td>\n",
       "      <td>2670.837085</td>\n",
       "    </tr>\n",
       "    <tr>\n",
       "      <th>1959Q2</th>\n",
       "      <td>2778.801</td>\n",
       "      <td>80.088532</td>\n",
       "      <td>2698.712468</td>\n",
       "    </tr>\n",
       "    <tr>\n",
       "      <th>1959Q3</th>\n",
       "      <td>2775.488</td>\n",
       "      <td>48.875455</td>\n",
       "      <td>2726.612545</td>\n",
       "    </tr>\n",
       "    <tr>\n",
       "      <th>1959Q4</th>\n",
       "      <td>2785.204</td>\n",
       "      <td>30.591933</td>\n",
       "      <td>2754.612067</td>\n",
       "    </tr>\n",
       "    <tr>\n",
       "      <th>1960Q1</th>\n",
       "      <td>2847.699</td>\n",
       "      <td>64.882667</td>\n",
       "      <td>2782.816333</td>\n",
       "    </tr>\n",
       "    <tr>\n",
       "      <th>...</th>\n",
       "      <td>...</td>\n",
       "      <td>...</td>\n",
       "      <td>...</td>\n",
       "    </tr>\n",
       "    <tr>\n",
       "      <th>2008Q3</th>\n",
       "      <td>13324.600</td>\n",
       "      <td>102.018455</td>\n",
       "      <td>13222.581545</td>\n",
       "    </tr>\n",
       "    <tr>\n",
       "      <th>2008Q4</th>\n",
       "      <td>13141.920</td>\n",
       "      <td>-107.269472</td>\n",
       "      <td>13249.189472</td>\n",
       "    </tr>\n",
       "    <tr>\n",
       "      <th>2009Q1</th>\n",
       "      <td>12925.410</td>\n",
       "      <td>-349.047706</td>\n",
       "      <td>13274.457706</td>\n",
       "    </tr>\n",
       "    <tr>\n",
       "      <th>2009Q2</th>\n",
       "      <td>12901.504</td>\n",
       "      <td>-397.557073</td>\n",
       "      <td>13299.061073</td>\n",
       "    </tr>\n",
       "    <tr>\n",
       "      <th>2009Q3</th>\n",
       "      <td>12990.341</td>\n",
       "      <td>-333.115243</td>\n",
       "      <td>13323.456243</td>\n",
       "    </tr>\n",
       "  </tbody>\n",
       "</table>\n",
       "<p>203 rows × 3 columns</p>\n",
       "</div>"
      ],
      "text/plain": [
       "          realgdp       cycle         trend\n",
       "1959Q1   2710.349   39.511915   2670.837085\n",
       "1959Q2   2778.801   80.088532   2698.712468\n",
       "1959Q3   2775.488   48.875455   2726.612545\n",
       "1959Q4   2785.204   30.591933   2754.612067\n",
       "1960Q1   2847.699   64.882667   2782.816333\n",
       "...           ...         ...           ...\n",
       "2008Q3  13324.600  102.018455  13222.581545\n",
       "2008Q4  13141.920 -107.269472  13249.189472\n",
       "2009Q1  12925.410 -349.047706  13274.457706\n",
       "2009Q2  12901.504 -397.557073  13299.061073\n",
       "2009Q3  12990.341 -333.115243  13323.456243\n",
       "\n",
       "[203 rows x 3 columns]"
      ]
     },
     "execution_count": 25,
     "metadata": {},
     "output_type": "execute_result"
    }
   ],
   "source": [
    "from statsmodels.tsa.filters.hp_filter import hpfilter\n",
    "\n",
    "gdp_cycle, gdp_trend = hpfilter(data['realgdp'], lamb=1600)\n",
    "gdp_segr = data[['realgdp']].copy()\n",
    "gdp_segr['cycle'] = gdp_cycle\n",
    "gdp_segr['trend'] = gdp_trend\n",
    "\n",
    "gdp_segr"
   ]
  },
  {
   "cell_type": "markdown",
   "id": "1ab9a372",
   "metadata": {},
   "source": [
    "Здесь, на выходе, мы видим, что выделили из временного ряда цикл и трендовую составляющую. Давайте нарисуем их по очереди."
   ]
  },
  {
   "cell_type": "code",
   "execution_count": 27,
   "id": "f25eb5b5",
   "metadata": {},
   "outputs": [
    {
     "data": {
      "image/png": "[encoded data removed]",
      "text/plain": [
       "<Figure size 432x288 with 1 Axes>"
      ]
     },
     "metadata": {
      "needs_background": "light"
     },
     "output_type": "display_data"
    }
   ],
   "source": [
    "gdp_trend.plot();\n"
   ]
  },
  {
   "cell_type": "code",
   "execution_count": 29,
   "id": "3ab4c6c6",
   "metadata": {},
   "outputs": [
    {
     "data": {
      "image/png": "[encoded data removed]",
      "text/plain": [
       "<Figure size 432x288 with 1 Axes>"
      ]
     },
     "metadata": {
      "needs_background": "light"
     },
     "output_type": "display_data"
    }
   ],
   "source": [
    "gdp_cycle.plot();"
   ]
  },
  {
   "cell_type": "markdown",
   "id": "80419046",
   "metadata": {},
   "source": [
    "Здесь мы видим циклическую составляющую временного ряда. Давайте нарисуем их все вместе, чтобы у нас было четкое представление о временном ряде."
   ]
  },
  {
   "cell_type": "code",
   "execution_count": 31,
   "id": "d2aa6cc7",
   "metadata": {},
   "outputs": [
    {
     "data": {
      "image/png": "[encoded data removed]",
      "text/plain": [
       "<Figure size 432x288 with 1 Axes>"
      ]
     },
     "metadata": {
      "needs_background": "light"
     },
     "output_type": "display_data"
    }
   ],
   "source": [
    "fig, ax = plt.subplots()\n",
    "\n",
    "gdp_segr[['realgdp', 'trend', 'cycle']]['2000-03-31':].plot(ax=ax, fontsize=12);"
   ]
  },
  {
   "cell_type": "markdown",
   "id": "a960a181",
   "metadata": {},
   "source": [
    "В приведенном выше выводе мы видим сравнительную визуализацию нашего временного ряда и его компонент. \n",
    "\n",
    "Поскольку мы используем фильтр HP для извлечения гладкого тренда из временного ряда, который можно использовать для построения прогнозов, игнорируя циклическую составляющую. \n",
    "\n",
    "Поэтому для нас будет гораздо лучше визуализировать сравнительный график временного ряда и извлеченных трендов, что можно сделать с помощью следующих кодов."
   ]
  },
  {
   "cell_type": "code",
   "execution_count": 32,
   "id": "31d7f964",
   "metadata": {},
   "outputs": [
    {
     "data": {
      "image/png": "[encoded data removed]",
      "text/plain": [
       "<Figure size 432x288 with 1 Axes>"
      ]
     },
     "metadata": {
      "needs_background": "light"
     },
     "output_type": "display_data"
    }
   ],
   "source": [
    "fig, ax = plt.subplots()\n",
    "\n",
    "gdp_segr[['realgdp', 'trend']]['2000-03-31':].plot(ax=ax, fontsize=12);"
   ]
  },
  {
   "cell_type": "markdown",
   "id": "598f8e41",
   "metadata": {},
   "source": [
    "В приведенном выше выводе мы можем легко сравнить различные линии, а также увидеть, что теперь тренд временного ряда на самом деле более гладкий, чем в более старом временном ряду. \n",
    "\n",
    "Такое выделение тренда или детрендинг позволяет нам прогнозировать более точные значения. \n",
    "\n",
    "\n",
    "### Преимущества фильтра Ходрика-Прескотта \n",
    "\n",
    "+ Поскольку он является мощным инструментом для сглаживания данных, мы можем использовать его в макроэкономике.\n",
    "+ Он способен устранять колебания в краткосрочных временных рядах. Поэтому мы можем легко применять его для анализа краткосрочных временных рядов. \n",
    "+ Как правило, он дает хорошие результаты в ситуациях, когда шум распределен нормально.\n",
    "\n",
    "### Ограничения фильтра Ходрика-Прескотта \n",
    "\n",
    "+ Чтобы фильтр HP работал должным образом, мы должны иметь данные в одном тренде, поскольку наличие разделенного темпа роста заставляет фильтр генерировать синтетические сдвиги в тренде.\n",
    "+ С помощью этого фильтра можно проводить только статический анализ временных рядов, поскольку в динамических условиях он изменяет прошлое состояние временного ряда, что приводит к ошибочным прогнозам.\n",
    "+ Этот фильтр не ориентирован на прошлое (backward-looking), поскольку его оператор запаздывания можно увидеть из F.O.C. для задач минимизации, что делает его не случайным.\n",
    "+ Односторонняя версия фильтра HP обеспечивает сглаживание временного ряда, но не способна извлекать значения, которые не нужны для прогнозирования."
   ]
  },
  {
   "cell_type": "code",
   "execution_count": 37,
   "id": "7b1bb95e",
   "metadata": {},
   "outputs": [
    {
     "data": {
      "text/html": [
       "<div>\n",
       "<style scoped>\n",
       "    .dataframe tbody tr th:only-of-type {\n",
       "        vertical-align: middle;\n",
       "    }\n",
       "\n",
       "    .dataframe tbody tr th {\n",
       "        vertical-align: top;\n",
       "    }\n",
       "\n",
       "    .dataframe thead th {\n",
       "        text-align: right;\n",
       "    }\n",
       "</style>\n",
       "<table border=\"1\" class=\"dataframe\">\n",
       "  <thead>\n",
       "    <tr style=\"text-align: right;\">\n",
       "      <th></th>\n",
       "      <th>GDP</th>\n",
       "    </tr>\n",
       "  </thead>\n",
       "  <tbody>\n",
       "    <tr>\n",
       "      <th>4кв2011</th>\n",
       "      <td>81750569.96</td>\n",
       "    </tr>\n",
       "    <tr>\n",
       "      <th>1кв2012</th>\n",
       "      <td>82802794.56</td>\n",
       "    </tr>\n",
       "    <tr>\n",
       "      <th>2кв2012</th>\n",
       "      <td>83760443.16</td>\n",
       "    </tr>\n",
       "    <tr>\n",
       "      <th>3кв2012</th>\n",
       "      <td>84493594.06</td>\n",
       "    </tr>\n",
       "    <tr>\n",
       "      <th>4кв2012</th>\n",
       "      <td>85040283.46</td>\n",
       "    </tr>\n",
       "  </tbody>\n",
       "</table>\n",
       "</div>"
      ],
      "text/plain": [
       "                 GDP\n",
       "4кв2011  81750569.96\n",
       "1кв2012  82802794.56\n",
       "2кв2012  83760443.16\n",
       "3кв2012  84493594.06\n",
       "4кв2012  85040283.46"
      ]
     },
     "execution_count": 37,
     "metadata": {},
     "output_type": "execute_result"
    }
   ],
   "source": [
    "file = 'GDP.xlsx'\n",
    "gdp = pd.read_excel(file, index_col=0)\n",
    "gdp.head()"
   ]
  },
  {
   "cell_type": "code",
   "execution_count": 42,
   "id": "44f42b47",
   "metadata": {},
   "outputs": [
    {
     "data": {
      "text/plain": [
       "<AxesSubplot:>"
      ]
     },
     "execution_count": 42,
     "metadata": {},
     "output_type": "execute_result"
    },
    {
     "data": {
      "image/png": "[encoded data removed]",
      "text/plain": [
       "<Figure size 432x288 with 1 Axes>"
      ]
     },
     "metadata": {
      "needs_background": "light"
     },
     "output_type": "display_data"
    }
   ],
   "source": [
    "gdp.plot()"
   ]
  },
  {
   "cell_type": "code",
   "execution_count": 44,
   "id": "e04253cf",
   "metadata": {},
   "outputs": [
    {
     "data": {
      "text/html": [
       "<div>\n",
       "<style scoped>\n",
       "    .dataframe tbody tr th:only-of-type {\n",
       "        vertical-align: middle;\n",
       "    }\n",
       "\n",
       "    .dataframe tbody tr th {\n",
       "        vertical-align: top;\n",
       "    }\n",
       "\n",
       "    .dataframe thead th {\n",
       "        text-align: right;\n",
       "    }\n",
       "</style>\n",
       "<table border=\"1\" class=\"dataframe\">\n",
       "  <thead>\n",
       "    <tr style=\"text-align: right;\">\n",
       "      <th></th>\n",
       "      <th>GDP</th>\n",
       "      <th>cycle</th>\n",
       "      <th>trend</th>\n",
       "    </tr>\n",
       "  </thead>\n",
       "  <tbody>\n",
       "    <tr>\n",
       "      <th>4кв2011</th>\n",
       "      <td>81750569.96</td>\n",
       "      <td>-1.924505e+06</td>\n",
       "      <td>8.367507e+07</td>\n",
       "    </tr>\n",
       "    <tr>\n",
       "      <th>1кв2012</th>\n",
       "      <td>82802794.56</td>\n",
       "      <td>-1.091053e+06</td>\n",
       "      <td>8.389385e+07</td>\n",
       "    </tr>\n",
       "    <tr>\n",
       "      <th>2кв2012</th>\n",
       "      <td>83760443.16</td>\n",
       "      <td>-3.509744e+05</td>\n",
       "      <td>8.411142e+07</td>\n",
       "    </tr>\n",
       "    <tr>\n",
       "      <th>3кв2012</th>\n",
       "      <td>84493594.06</td>\n",
       "      <td>1.676941e+05</td>\n",
       "      <td>8.432590e+07</td>\n",
       "    </tr>\n",
       "    <tr>\n",
       "      <th>4кв2012</th>\n",
       "      <td>85040283.46</td>\n",
       "      <td>5.050926e+05</td>\n",
       "      <td>8.453519e+07</td>\n",
       "    </tr>\n",
       "  </tbody>\n",
       "</table>\n",
       "</div>"
      ],
      "text/plain": [
       "                 GDP         cycle         trend\n",
       "4кв2011  81750569.96 -1.924505e+06  8.367507e+07\n",
       "1кв2012  82802794.56 -1.091053e+06  8.389385e+07\n",
       "2кв2012  83760443.16 -3.509744e+05  8.411142e+07\n",
       "3кв2012  84493594.06  1.676941e+05  8.432590e+07\n",
       "4кв2012  85040283.46  5.050926e+05  8.453519e+07"
      ]
     },
     "execution_count": 44,
     "metadata": {},
     "output_type": "execute_result"
    }
   ],
   "source": [
    "gdp['cycle'], gdp['trend'] = hpfilter(gdp['GDP'], lamb=1600)\n",
    "gdp.head()"
   ]
  },
  {
   "cell_type": "code",
   "execution_count": 45,
   "id": "433f2552",
   "metadata": {},
   "outputs": [
    {
     "data": {
      "image/png": "[encoded data removed]",
      "text/plain": [
       "<Figure size 432x288 with 1 Axes>"
      ]
     },
     "metadata": {
      "needs_background": "light"
     },
     "output_type": "display_data"
    }
   ],
   "source": [
    "fig, ax = plt.subplots()\n",
    "\n",
    "gdp[['GDP', 'trend', 'cycle']].plot(ax=ax, fontsize=12);"
   ]
  },
  {
   "cell_type": "code",
   "execution_count": 51,
   "id": "4fb6208d",
   "metadata": {},
   "outputs": [
    {
     "data": {
      "image/png": "[encoded data removed]",
      "text/plain": [
       "<Figure size 432x288 with 1 Axes>"
      ]
     },
     "metadata": {
      "needs_background": "light"
     },
     "output_type": "display_data"
    }
   ],
   "source": [
    "fig, ax = plt.subplots()\n",
    "\n",
    "gdp[['GDP', 'trend']].plot(ax=ax,fontsize=12);"
   ]
  },
  {
   "cell_type": "code",
   "execution_count": 52,
   "id": "b75e478f",
   "metadata": {},
   "outputs": [
    {
     "data": {
      "text/html": [
       "<div>\n",
       "<style scoped>\n",
       "    .dataframe tbody tr th:only-of-type {\n",
       "        vertical-align: middle;\n",
       "    }\n",
       "\n",
       "    .dataframe tbody tr th {\n",
       "        vertical-align: top;\n",
       "    }\n",
       "\n",
       "    .dataframe thead th {\n",
       "        text-align: right;\n",
       "    }\n",
       "</style>\n",
       "<table border=\"1\" class=\"dataframe\">\n",
       "  <thead>\n",
       "    <tr style=\"text-align: right;\">\n",
       "      <th></th>\n",
       "      <th>GDP</th>\n",
       "      <th>cycle</th>\n",
       "      <th>trend</th>\n",
       "      <th>GDP-trend</th>\n",
       "    </tr>\n",
       "  </thead>\n",
       "  <tbody>\n",
       "    <tr>\n",
       "      <th>4кв2011</th>\n",
       "      <td>81750569.96</td>\n",
       "      <td>-1.924505e+06</td>\n",
       "      <td>8.367507e+07</td>\n",
       "      <td>-1.924505e+06</td>\n",
       "    </tr>\n",
       "    <tr>\n",
       "      <th>1кв2012</th>\n",
       "      <td>82802794.56</td>\n",
       "      <td>-1.091053e+06</td>\n",
       "      <td>8.389385e+07</td>\n",
       "      <td>-1.091053e+06</td>\n",
       "    </tr>\n",
       "    <tr>\n",
       "      <th>2кв2012</th>\n",
       "      <td>83760443.16</td>\n",
       "      <td>-3.509744e+05</td>\n",
       "      <td>8.411142e+07</td>\n",
       "      <td>-3.509744e+05</td>\n",
       "    </tr>\n",
       "    <tr>\n",
       "      <th>3кв2012</th>\n",
       "      <td>84493594.06</td>\n",
       "      <td>1.676941e+05</td>\n",
       "      <td>8.432590e+07</td>\n",
       "      <td>1.676941e+05</td>\n",
       "    </tr>\n",
       "    <tr>\n",
       "      <th>4кв2012</th>\n",
       "      <td>85040283.46</td>\n",
       "      <td>5.050926e+05</td>\n",
       "      <td>8.453519e+07</td>\n",
       "      <td>5.050926e+05</td>\n",
       "    </tr>\n",
       "  </tbody>\n",
       "</table>\n",
       "</div>"
      ],
      "text/plain": [
       "                 GDP         cycle         trend     GDP-trend\n",
       "4кв2011  81750569.96 -1.924505e+06  8.367507e+07 -1.924505e+06\n",
       "1кв2012  82802794.56 -1.091053e+06  8.389385e+07 -1.091053e+06\n",
       "2кв2012  83760443.16 -3.509744e+05  8.411142e+07 -3.509744e+05\n",
       "3кв2012  84493594.06  1.676941e+05  8.432590e+07  1.676941e+05\n",
       "4кв2012  85040283.46  5.050926e+05  8.453519e+07  5.050926e+05"
      ]
     },
     "execution_count": 52,
     "metadata": {},
     "output_type": "execute_result"
    }
   ],
   "source": [
    "gdp['GDP-trend'] = gdp['GDP'] - gdp['trend']\n",
    "gdp.head()"
   ]
  },
  {
   "cell_type": "code",
   "execution_count": 48,
   "id": "b3f4dc72",
   "metadata": {},
   "outputs": [
    {
     "data": {
      "image/png": "[encoded data removed]",
      "text/plain": [
       "<Figure size 432x288 with 1 Axes>"
      ]
     },
     "metadata": {
      "needs_background": "light"
     },
     "output_type": "display_data"
    }
   ],
   "source": [
    "gdp['cycle'].plot(fontsize=12);"
   ]
  },
  {
   "cell_type": "code",
   "execution_count": 53,
   "id": "53ae8725",
   "metadata": {},
   "outputs": [
    {
     "data": {
      "image/png": "[encoded data removed]",
      "text/plain": [
       "<Figure size 432x288 with 1 Axes>"
      ]
     },
     "metadata": {
      "needs_background": "light"
     },
     "output_type": "display_data"
    }
   ],
   "source": [
    "gdp['GDP-trend'].plot(fontsize=12);"
   ]
  }
 ],
 "metadata": {
  "kernelspec": {
   "display_name": "Python 3 (ipykernel)",
   "language": "python",
   "name": "python3"
  },
  "language_info": {
   "codemirror_mode": {
    "name": "ipython",
    "version": 3
   },
   "file_extension": ".py",
   "mimetype": "text/x-python",
   "name": "python",
   "nbconvert_exporter": "python",
   "pygments_lexer": "ipython3",
   "version": "3.9.7"
  }
 },
 "nbformat": 4,
 "nbformat_minor": 5
}
